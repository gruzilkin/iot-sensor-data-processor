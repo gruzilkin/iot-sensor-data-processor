{
    "cells": [
        {
            "cell_type": "code",
            "execution_count": null,
            "metadata": {},
            "outputs": [],
            "source": [
                "! pip install psycopg2\n",
                "! pip install cachetools\n",
                "! pip install pandas\n",
                "! pip install seaborn\n",
                "\n",
                "import psycopg2\n",
                "\n",
                "import numpy as np\n",
                "import pandas as pd\n",
                "import seaborn as sns\n",
                "import matplotlib.pyplot as plt\n",
                "\n",
                "import heapq as hq\n",
                "\n",
                "from cachetools import cached, TTLCache"
            ]
        },
        {
            "cell_type": "code",
            "execution_count": null,
            "metadata": {},
            "outputs": [],
            "source": [
                "device_id = \"zero\"\n",
                "sns.set(rc={'figure.figsize':(15, 10)})\n",
                "#plt.rcParams[\"figure.figsze\"] = (15, 10)"
            ]
        },
        {
            "cell_type": "code",
            "execution_count": null,
            "metadata": {},
            "outputs": [],
            "source": [
                "def create_connection():\n",
                "    dbname = 'postgres'\n",
                "    user = 'postgres'\n",
                "    password = 'postgres'\n",
                "    host = '192.168.11.11'\n",
                "    return psycopg2.connect(dbname=dbname, user=user, password=password, host=host)"
            ]
        },
        {
            "cell_type": "code",
            "execution_count": null,
            "metadata": {},
            "outputs": [],
            "source": [
                "@cached(cache=TTLCache(maxsize=32, ttl=60))\n",
                "def fetch_scd30():\n",
                "\twith create_connection() as connection:\n",
                "\t\tconnection = create_connection()\n",
                "\t\twith connection.cursor() as cursor:\n",
                "\t\t\tcursor.execute(f\"\"\"SELECT ppm, received_at\n",
                "\t\t\t\tFROM sensor_data_scd30\n",
                "\t\t\t\tWHERE device_id = %s AND received_at > now() - interval '1 day'\n",
                "                ORDER BY received_at ASC\"\"\", (device_id,))  #AND received_at > now() - interval '1 day'\n",
                "\t\t\treturn cursor.fetchall()\n",
                "\n",
                "@cached(cache=TTLCache(maxsize=32, ttl=60))\n",
                "def fetch_sgp40():\n",
                "\twith create_connection() as connection:\n",
                "\t\tconnection = create_connection()\n",
                "\t\twith connection.cursor() as cursor:\n",
                "\t\t\tcursor.execute(f\"\"\"SELECT voc, received_at\n",
                "\t\t\t\tFROM sensor_data_sgp40\n",
                "\t\t\t\tWHERE device_id = %s AND received_at > now() - interval '1 day'\n",
                "                ORDER BY received_at ASC\"\"\", (device_id,))\n",
                "\t\t\treturn cursor.fetchall()"
            ]
        },
        {
            "cell_type": "code",
            "execution_count": null,
            "metadata": {},
            "outputs": [],
            "source": [
                "def fetch_scd30_batch():\n",
                "\twith create_connection() as connection:\n",
                "\t\tconnection = create_connection()\n",
                "\t\twith connection.cursor() as cursor:\n",
                "\t\t\tcursor.execute(f\"\"\"SELECT id, ppm, temperature, humidity\n",
                "\t\t\t\t\t\t\tFROM sensor_data_scd30\n",
                "\t\t\t\t\t\t\tWHERE device_id = %s AND id >= COALESCE(\n",
                "\t\t\t\t\t\t\t\t(SELECT id\n",
                "\t\t\t\t\t\t\t\tFROM sensor_data_scd30\n",
                "\t\t\t\t\t\t\t\tWHERE device_id = %s AND weight IS NOT NULL AND weight != 0\n",
                "\t\t\t\t\t\t\t\tORDER BY id DESC\n",
                "\t\t\t\t\t\t\t\tLIMIT 1), 0)\n",
                "\t\t\t\t\t\t\tORDER BY id ASC\n",
                "\t\t\t\t\t\t\tLIMIT 1000\"\"\", (device_id,device_id,))\n",
                "\t\t\treturn cursor.fetchall()"
            ]
        },
        {
            "cell_type": "code",
            "execution_count": null,
            "metadata": {},
            "outputs": [],
            "source": [
                "def fetch_scd30_smart():\n",
                "\twith create_connection() as connection:\n",
                "\t\tconnection = create_connection()\n",
                "\t\twith connection.cursor() as cursor:\n",
                "\t\t\tcursor.execute(f\"\"\"SELECT ppm, received_at\n",
                "\t\t\t\tFROM sensor_data_scd30\n",
                "\t\t\t\tWHERE id IN (SELECT id FROM sensor_data_scd30 WHERE device_id = %s AND received_at > now() - interval '1 day' AND weight IS NOT NULL ORDER BY weight DESC LIMIT 100) \n",
                "                ORDER BY received_at ASC\"\"\", (device_id,))\n",
                "\t\t\treturn cursor.fetchall()"
            ]
        },
        {
            "cell_type": "code",
            "execution_count": null,
            "metadata": {},
            "outputs": [],
            "source": [
                "def update_scd30_weight(series):\n",
                "    with create_connection() as connection:\n",
                "        connection = create_connection()\n",
                "        with connection.cursor() as cursor:\n",
                "            sql = \"\"\"UPDATE sensor_data_scd30\n",
                "            SET weight = %s\n",
                "            WHERE id = %s AND (weight IS NULL OR weight < %s)\n",
                "            \"\"\"\n",
                "            for id, weight in series.iteritems():\n",
                "                cursor.execute(sql, (weight, id, weight))\n",
                "            connection.commit()"
            ]
        },
        {
            "cell_type": "code",
            "execution_count": null,
            "metadata": {},
            "outputs": [],
            "source": [
                "def calculate_weights_for_dataframe(df, columns):\n",
                "    weights = []\n",
                "    for column in columns:\n",
                "        data = df[column].to_numpy()\n",
                "        weight = calculateWeights(data)\n",
                "        weights.append(weight)\n",
                "    weight = np.stack(weights, axis=1).max(axis=1)\n",
                "    df['weight'] = weight"
            ]
        },
        {
            "cell_type": "code",
            "execution_count": null,
            "metadata": {},
            "outputs": [],
            "source": [
                "def process_weights():\n",
                "    while True:\n",
                "        data = fetch_scd30_batch()\n",
                "        df = pd.DataFrame.from_records(data, index=['id'], columns=['id', 'ppm', 'temperature', 'humidity'])\n",
                "        df.ppm = df.ppm.astype(float)\n",
                "        df.temperature = df.temperature.astype(float)\n",
                "        df.humidity = df.humidity.astype(float)\n",
                "\n",
                "        if len(df.index) < 100:\n",
                "            break\n",
                "\n",
                "        calculate_weights_for_dataframe(df, ['ppm', 'temperature', 'humidity'])\n",
                "\n",
                "        update_scd30_weight(df.weight)"
            ]
        },
        {
            "cell_type": "code",
            "execution_count": null,
            "metadata": {},
            "outputs": [],
            "source": [
                "process_weights()"
            ]
        },
        {
            "cell_type": "code",
            "execution_count": null,
            "metadata": {},
            "outputs": [],
            "source": [
                "def calculateWeights(data):\n",
                "    y = data\n",
                "    y = (y - y.mean()) / y.std()\n",
                "    x = np.arange(len(y))\n",
                "    indeces = {0:0, len(y)-1:0}\n",
                "\n",
                "    queue = []\n",
                "    hq.heappush(queue, (0, (0, len(y)-1)))\n",
                "\n",
                "    while queue:\n",
                "        _, (left, right) = hq.heappop(queue)\n",
                "\n",
                "        if right - left == 1:\n",
                "            continue\n",
                "\n",
                "        y_range = y[left:right + 1]\n",
                "        x_range = x[left:right + 1]\n",
                "        \n",
                "        x1, y1, x2, y2 = x_range[0], y_range[0], x_range[-1], y_range[-1]\n",
                "        a = (y2 - y1) / (x2 - x1)\n",
                "        b = -x1 * (y2 - y1) / (x2 - x1) + y1\n",
                "        y_hat = a*x_range + b\n",
                "        diff = np.abs(y_range - y_hat)\n",
                "        diff = diff[1:-1]\n",
                "\n",
                "        i = np.argmax(diff)\n",
                "        error = diff[i]\n",
                "        i += left + 1\n",
                "\n",
                "        indeces[i] = error\n",
                "        hq.heappush(queue, (-error, (left, i)))\n",
                "        hq.heappush(queue, (-error, (i, right)))\n",
                "\n",
                "    indeces = dict(sorted(indeces.items(), key=lambda item: item[0]))\n",
                "    return np.array([x for x in indeces.values()])"
            ]
        },
        {
            "cell_type": "code",
            "execution_count": null,
            "metadata": {},
            "outputs": [],
            "source": [
                "original = fetch_scd30()\n",
                "original = pd.DataFrame.from_records(original, columns=['ppm', 'receivedAt'])\n",
                "original.ppm = original.ppm.astype(float)\n",
                "original['type'] = 'original'\n",
                "\n",
                "approximation = pd.DataFrame.from_records(fetch_scd30_smart(), columns=['ppm', 'receivedAt'])\n",
                "approximation.ppm = approximation.ppm.astype(float)\n",
                "approximation['type'] = 'approximation'\n",
                "\n",
                "local = original.copy()\n",
                "calculate_weights_for_dataframe(local, ['ppm'])\n",
                "local = local[local.weight > 0.1]\n",
                "print(len(local.index))\n",
                "\n",
                "graph = pd.concat([original, approximation, local], ignore_index=True)\n",
                "\n",
                "sns.lineplot(data=graph, x='receivedAt', y='ppm', hue='type')"
            ]
        }
    ],
    "metadata": {
        "interpreter": {
            "hash": "06fd2f3151bfea81d419f9a472826ce194eae6884a3cf8264ef7dab6f864be4e"
        },
        "kernelspec": {
            "display_name": "Python 3.8.3 64-bit ('torch': conda)",
            "name": "python3"
        },
        "language_info": {
            "codemirror_mode": {
                "name": "ipython",
                "version": 3
            },
            "file_extension": ".py",
            "mimetype": "text/x-python",
            "name": "python",
            "nbconvert_exporter": "python",
            "pygments_lexer": "ipython3",
            "version": "3.8.3"
        },
        "orig_nbformat": 4
    },
    "nbformat": 4,
    "nbformat_minor": 2
}
