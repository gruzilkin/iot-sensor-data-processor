{
    "cells": [
        {
            "cell_type": "code",
            "execution_count": null,
            "metadata": {},
            "outputs": [],
            "source": [
                "! pip install psycopg2\n",
                "! pip install cachetools\n",
                "! pip install pandas\n",
                "! pip install seaborn\n",
                "\n",
                "import psycopg2\n",
                "\n",
                "import numpy as np\n",
                "import pandas as pd\n",
                "import seaborn as sns\n",
                "import matplotlib.pyplot as plt\n",
                "\n",
                "import heapq as hq\n",
                "\n",
                "from cachetools import cached, TTLCache"
            ]
        },
        {
            "cell_type": "code",
            "execution_count": null,
            "metadata": {},
            "outputs": [],
            "source": [
                "device_id = \"zero\"\n",
                "sns.set(rc={'figure.figsize':(15, 10)})\n",
                "#plt.rcParams[\"figure.figsze\"] = (15, 10)"
            ]
        },
        {
            "cell_type": "code",
            "execution_count": null,
            "metadata": {},
            "outputs": [],
            "source": [
                "def create_connection():\n",
                "    dbname = 'postgres'\n",
                "    user = 'postgres'\n",
                "    password = 'postgres'\n",
                "    host = '192.168.11.11'\n",
                "    return psycopg2.connect(dbname=dbname, user=user, password=password, host=host)"
            ]
        },
        {
            "cell_type": "code",
            "execution_count": null,
            "metadata": {},
            "outputs": [],
            "source": [
                "@cached(cache=TTLCache(maxsize=32, ttl=60))\n",
                "def fetch_scd30():\n",
                "\twith create_connection() as connection:\n",
                "\t\tconnection = create_connection()\n",
                "\t\twith connection.cursor() as cursor:\n",
                "\t\t\tcursor.execute(f\"\"\"SELECT ppm, received_at\n",
                "\t\t\t\tFROM sensor_data_scd30\n",
                "\t\t\t\tWHERE device_id = %s AND received_at > now() - interval '1 hour'\n",
                "                ORDER BY received_at ASC\"\"\", (device_id,))  #AND received_at > now() - interval '1 day'\n",
                "\t\t\treturn cursor.fetchall()\n",
                "\n",
                "@cached(cache=TTLCache(maxsize=32, ttl=60))\n",
                "def fetch_sgp40():\n",
                "\twith create_connection() as connection:\n",
                "\t\tconnection = create_connection()\n",
                "\t\twith connection.cursor() as cursor:\n",
                "\t\t\tcursor.execute(f\"\"\"SELECT voc, received_at\n",
                "\t\t\t\tFROM sensor_data_sgp40\n",
                "\t\t\t\tWHERE device_id = %s AND received_at > now() - interval '1 day'\n",
                "                ORDER BY received_at ASC\"\"\", (device_id,))\n",
                "\t\t\treturn cursor.fetchall()"
            ]
        },
        {
            "cell_type": "code",
            "execution_count": null,
            "metadata": {},
            "outputs": [],
            "source": [
                "data = fetch_scd30()"
            ]
        },
        {
            "cell_type": "code",
            "execution_count": null,
            "metadata": {},
            "outputs": [],
            "source": [
                "df = pd.DataFrame.from_records(data, columns=['ppm', 'receivedAt'])"
            ]
        },
        {
            "cell_type": "code",
            "execution_count": null,
            "metadata": {},
            "outputs": [],
            "source": [
                "df.ppm = df.ppm.astype(float)"
            ]
        },
        {
            "cell_type": "code",
            "execution_count": null,
            "metadata": {},
            "outputs": [],
            "source": [
                "df.plot.line(x='receivedAt', y='ppm')"
            ]
        },
        {
            "cell_type": "code",
            "execution_count": null,
            "metadata": {},
            "outputs": [],
            "source": [
                "def calculateWeights(data):\n",
                "    y = data\n",
                "    #y = (y - y.mean()) / y.std()\n",
                "    x = np.arange(len(y))\n",
                "    indeces = {0:0, len(y)-1:0}\n",
                "\n",
                "    queue = []\n",
                "    hq.heappush(queue, (0, (0, len(y)-1)))\n",
                "\n",
                "    while queue:\n",
                "        _, (left, right) = hq.heappop(queue)\n",
                "\n",
                "        if right - left == 1:\n",
                "            continue\n",
                "\n",
                "        y_range = y[left:right + 1]\n",
                "        x_range = x[left:right + 1]\n",
                "        \n",
                "        x1, y1, x2, y2 = x_range[0], y_range[0], x_range[-1], y_range[-1]\n",
                "        a = (y2 - y1) / (x2 - x1)\n",
                "        b = -x1 * (y2 - y1) / (x2 - x1) + y1\n",
                "        y_hat = a*x_range + b\n",
                "        diff = np.abs(y_range - y_hat)\n",
                "        diff = diff[1:-1]\n",
                "\n",
                "        i = np.argmax(diff)\n",
                "        error = diff[i]\n",
                "        i += left + 1\n",
                "\n",
                "        indeces[i] = error\n",
                "        hq.heappush(queue, (-error, (left, i)))\n",
                "        hq.heappush(queue, (-error, (i, right)))\n",
                "\n",
                "    indeces = dict(sorted(indeces.items(), key=lambda item: item[0]))\n",
                "    return np.array([x for x in indeces.values()])"
            ]
        },
        {
            "cell_type": "code",
            "execution_count": null,
            "metadata": {},
            "outputs": [],
            "source": [
                "y = df.ppm.to_numpy()\n",
                "weights = calculateWeights(y)"
            ]
        },
        {
            "cell_type": "code",
            "execution_count": null,
            "metadata": {},
            "outputs": [],
            "source": [
                "df['weight'] = weights\n",
                "df.describe()"
            ]
        },
        {
            "cell_type": "code",
            "execution_count": null,
            "metadata": {},
            "outputs": [],
            "source": [
                "original = df.copy()\n",
                "original['type'] = 'original'\n",
                "\n",
                "approximation = df[df.weight > 1].copy()\n",
                "approximation['type'] = 'approximation'\n",
                "\n",
                "graph = pd.concat([original, approximation], ignore_index=True)\n",
                "\n",
                "sns.lineplot(data=graph, x='receivedAt', y='ppm', hue='type')"
            ]
        }
    ],
    "metadata": {
        "interpreter": {
            "hash": "06fd2f3151bfea81d419f9a472826ce194eae6884a3cf8264ef7dab6f864be4e"
        },
        "kernelspec": {
            "display_name": "Python 3.8.3 64-bit ('torch': conda)",
            "name": "python3"
        },
        "language_info": {
            "codemirror_mode": {
                "name": "ipython",
                "version": 3
            },
            "file_extension": ".py",
            "mimetype": "text/x-python",
            "name": "python",
            "nbconvert_exporter": "python",
            "pygments_lexer": "ipython3",
            "version": "3.8.3"
        },
        "orig_nbformat": 4
    },
    "nbformat": 4,
    "nbformat_minor": 2
}
